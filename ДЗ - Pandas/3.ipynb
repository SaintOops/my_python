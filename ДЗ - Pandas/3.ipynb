{
 "cells": [
  {
   "cell_type": "code",
   "execution_count": 258,
   "metadata": {},
   "outputs": [
    {
     "data": {
      "text/html": [
       "<div>\n",
       "<style scoped>\n",
       "    .dataframe tbody tr th:only-of-type {\n",
       "        vertical-align: middle;\n",
       "    }\n",
       "\n",
       "    .dataframe tbody tr th {\n",
       "        vertical-align: top;\n",
       "    }\n",
       "\n",
       "    .dataframe thead th {\n",
       "        text-align: right;\n",
       "    }\n",
       "</style>\n",
       "<table border=\"1\" class=\"dataframe\">\n",
       "  <thead>\n",
       "    <tr style=\"text-align: right;\">\n",
       "      <th></th>\n",
       "      <th>id</th>\n",
       "      <th>Дата рождения</th>\n",
       "      <th>Вакансия</th>\n",
       "      <th>Технология</th>\n",
       "      <th>Локация</th>\n",
       "      <th>З/п в валюте найма</th>\n",
       "    </tr>\n",
       "  </thead>\n",
       "  <tbody>\n",
       "    <tr>\n",
       "      <th>0</th>\n",
       "      <td>1</td>\n",
       "      <td>18.04.1994</td>\n",
       "      <td>Инженер-программист 2 категории</td>\n",
       "      <td>JS</td>\n",
       "      <td>Санкт-Петербург</td>\n",
       "      <td>140 000,00 ₽</td>\n",
       "    </tr>\n",
       "    <tr>\n",
       "      <th>1</th>\n",
       "      <td>2</td>\n",
       "      <td>27.03.1993</td>\n",
       "      <td>Разработчик информационных систем</td>\n",
       "      <td>.NET</td>\n",
       "      <td>Москва</td>\n",
       "      <td>130 000,00 ₽</td>\n",
       "    </tr>\n",
       "    <tr>\n",
       "      <th>2</th>\n",
       "      <td>3</td>\n",
       "      <td>24.11.1983</td>\n",
       "      <td>Java Developer</td>\n",
       "      <td>Java</td>\n",
       "      <td>Санкт-Петербург</td>\n",
       "      <td>200 000,00 ₽</td>\n",
       "    </tr>\n",
       "    <tr>\n",
       "      <th>3</th>\n",
       "      <td>4</td>\n",
       "      <td>09.06.1989</td>\n",
       "      <td>Архитектор ПО</td>\n",
       "      <td>Java</td>\n",
       "      <td>Москва</td>\n",
       "      <td>250 000,00 ₽</td>\n",
       "    </tr>\n",
       "    <tr>\n",
       "      <th>4</th>\n",
       "      <td>5</td>\n",
       "      <td>03.10.1978</td>\n",
       "      <td>QA Automation Engineer</td>\n",
       "      <td>QA</td>\n",
       "      <td>Санкт-Петербург</td>\n",
       "      <td>172 413,00 ₽</td>\n",
       "    </tr>\n",
       "  </tbody>\n",
       "</table>\n",
       "</div>"
      ],
      "text/plain": [
       "   id Дата рождения                           Вакансия Технология  \\\n",
       "0   1    18.04.1994    Инженер-программист 2 категории         JS   \n",
       "1   2    27.03.1993  Разработчик информационных систем       .NET   \n",
       "2   3    24.11.1983                     Java Developer       Java   \n",
       "3   4    09.06.1989                      Архитектор ПО       Java   \n",
       "4   5    03.10.1978             QA Automation Engineer         QA   \n",
       "\n",
       "           Локация З/п в валюте найма  \n",
       "0  Санкт-Петербург       140 000,00 ₽  \n",
       "1           Москва       130 000,00 ₽  \n",
       "2  Санкт-Петербург       200 000,00 ₽  \n",
       "3           Москва       250 000,00 ₽  \n",
       "4  Санкт-Петербург       172 413,00 ₽  "
      ]
     },
     "execution_count": 258,
     "metadata": {},
     "output_type": "execute_result"
    }
   ],
   "source": [
    "import pandas as pd\n",
    "\n",
    "df = pd.read_csv('https://raw.githubusercontent.com/dm-fedorov/pandas_basic/master/data/it.csv')\n",
    "df.head()"
   ]
  },
  {
   "cell_type": "code",
   "execution_count": 259,
   "metadata": {},
   "outputs": [],
   "source": [
    "def salary(row):\n",
    "    value = \"\"\n",
    "    currency = \"\"\n",
    "    for i in row[\"З/п в валюте найма\"]:\n",
    "        if i.isdigit() or i == \",\":\n",
    "            value += i\n",
    "        else:\n",
    "            currency += i\n",
    "    return [float(value.replace(\",\",\".\")), currency.replace(\" \", \"\").replace(\"\\xa0\", \"\")]\n",
    "def currency(row):\n",
    "    return row[\"З/п в валюте найма\"][1]\n",
    "def value(row):\n",
    "    return row[\"З/п в валюте найма\"][0]\n",
    "\n",
    "df[\"З/п в валюте найма\"] = df.apply(salary, axis=1)\n",
    "df[\"Валюта\"] = df.apply(currency, axis=1)\n",
    "df[\"З/п в валюте найма\"] = df.apply(value, axis=1)"
   ]
  },
  {
   "cell_type": "code",
   "execution_count": 245,
   "metadata": {},
   "outputs": [
    {
     "data": {
      "text/plain": [
       "190669.89"
      ]
     },
     "execution_count": 245,
     "metadata": {},
     "output_type": "execute_result"
    }
   ],
   "source": [
    "# задание 1\n",
    "# Определите среднюю з.п. по данным в рублях\n",
    "\n",
    "round(df[df[\"Валюта\"] == \"₽\"][\"З/п в валюте найма\"].mean(),2)"
   ]
  },
  {
   "cell_type": "code",
   "execution_count": 246,
   "metadata": {},
   "outputs": [
    {
     "data": {
      "text/plain": [
       "14    Head of Software Testing Department\n",
       "Name: Вакансия, dtype: object"
      ]
     },
     "execution_count": 246,
     "metadata": {},
     "output_type": "execute_result"
    }
   ],
   "source": [
    "# задание 2 \n",
    "# Определите технологию с максимальной з.п. по данным в рублях\n",
    "\n",
    "df[df[\"З/п в валюте найма\"] == df[df[\"Валюта\"] == \"₽\"][\"З/п в валюте найма\"].max()][\"Вакансия\"]"
   ]
  },
  {
   "cell_type": "code",
   "execution_count": 247,
   "metadata": {},
   "outputs": [
    {
     "data": {
      "text/plain": [
       "14    34\n",
       "Name: Дата рождения, dtype: int64"
      ]
     },
     "execution_count": 247,
     "metadata": {},
     "output_type": "execute_result"
    }
   ],
   "source": [
    "# задание 3\n",
    "# Определите возраст программистов с максимальной з.п. по данным в рублях\n",
    "import datetime\n",
    "from datetime import datetime, timedelta\n",
    "\n",
    "df[df[\"З/п в валюте найма\"] == df[df[\"Валюта\"] == \"₽\"][\"З/п в валюте найма\"].max()][\"Дата рождения\"].apply(lambda x:2020 - int(x[-4:])) "
   ]
  },
  {
   "cell_type": "code",
   "execution_count": 248,
   "metadata": {},
   "outputs": [
    {
     "data": {
      "text/html": [
       "<div>\n",
       "<style scoped>\n",
       "    .dataframe tbody tr th:only-of-type {\n",
       "        vertical-align: middle;\n",
       "    }\n",
       "\n",
       "    .dataframe tbody tr th {\n",
       "        vertical-align: top;\n",
       "    }\n",
       "\n",
       "    .dataframe thead th {\n",
       "        text-align: right;\n",
       "    }\n",
       "</style>\n",
       "<table border=\"1\" class=\"dataframe\">\n",
       "  <thead>\n",
       "    <tr style=\"text-align: right;\">\n",
       "      <th></th>\n",
       "      <th>З/п в валюте найма</th>\n",
       "      <th>Валюта</th>\n",
       "    </tr>\n",
       "  </thead>\n",
       "  <tbody>\n",
       "    <tr>\n",
       "      <th>4</th>\n",
       "      <td>172413.0</td>\n",
       "      <td>₽</td>\n",
       "    </tr>\n",
       "    <tr>\n",
       "      <th>9</th>\n",
       "      <td>9500.0</td>\n",
       "      <td>zł</td>\n",
       "    </tr>\n",
       "    <tr>\n",
       "      <th>11</th>\n",
       "      <td>12000.0</td>\n",
       "      <td>zł</td>\n",
       "    </tr>\n",
       "    <tr>\n",
       "      <th>12</th>\n",
       "      <td>10500.0</td>\n",
       "      <td>zł</td>\n",
       "    </tr>\n",
       "    <tr>\n",
       "      <th>13</th>\n",
       "      <td>9500.0</td>\n",
       "      <td>zł</td>\n",
       "    </tr>\n",
       "    <tr>\n",
       "      <th>18</th>\n",
       "      <td>200000.0</td>\n",
       "      <td>₽</td>\n",
       "    </tr>\n",
       "    <tr>\n",
       "      <th>19</th>\n",
       "      <td>135000.0</td>\n",
       "      <td>₽</td>\n",
       "    </tr>\n",
       "    <tr>\n",
       "      <th>37</th>\n",
       "      <td>13000.0</td>\n",
       "      <td>zł</td>\n",
       "    </tr>\n",
       "    <tr>\n",
       "      <th>38</th>\n",
       "      <td>6446.0</td>\n",
       "      <td>lev</td>\n",
       "    </tr>\n",
       "    <tr>\n",
       "      <th>39</th>\n",
       "      <td>650000.0</td>\n",
       "      <td>Ft</td>\n",
       "    </tr>\n",
       "    <tr>\n",
       "      <th>54</th>\n",
       "      <td>80000.0</td>\n",
       "      <td>Kč</td>\n",
       "    </tr>\n",
       "  </tbody>\n",
       "</table>\n",
       "</div>"
      ],
      "text/plain": [
       "    З/п в валюте найма Валюта\n",
       "4             172413.0      ₽\n",
       "9               9500.0     zł\n",
       "11             12000.0     zł\n",
       "12             10500.0     zł\n",
       "13              9500.0     zł\n",
       "18            200000.0      ₽\n",
       "19            135000.0      ₽\n",
       "37             13000.0     zł\n",
       "38              6446.0    lev\n",
       "39            650000.0     Ft\n",
       "54             80000.0     Kč"
      ]
     },
     "execution_count": 248,
     "metadata": {},
     "output_type": "execute_result"
    }
   ],
   "source": [
    "# задание 4\n",
    "# Определите зарплаты работников, у которых в названии вакансии встречается слово Engineer\n",
    "\n",
    "df[df.Вакансия.str.contains(\"Engineer\")][[\"З/п в валюте найма\",\"Валюта\"]]"
   ]
  },
  {
   "cell_type": "code",
   "execution_count": 260,
   "metadata": {},
   "outputs": [],
   "source": [
    "import pandas as pd\n",
    "import requests  \n",
    "response = requests.get('https://www.cbr-xml-daily.ru/daily_json.js')\n",
    "currencies = response.json()"
   ]
  },
  {
   "cell_type": "code",
   "execution_count": 262,
   "metadata": {},
   "outputs": [],
   "source": [
    "# задание 4\n",
    "# Определите заработную плату в ₽ по текущему курсу.\n",
    "\n",
    "codes = {\"$\":\"USD\",\"Ft\":\"HUF\",\"Kč\":\"CZK\",\"lev\":\"BGN\",\"zł\":\"PLN\",\"€\":\"EUR\",\"₽\":\"RUB\"}\n",
    "def to_rub(row):\n",
    "    ans = 0\n",
    "    if row[\"Валюта\"] != \"₽\":\n",
    "        ans = currencies['Valute'][codes[row[\"Валюта\"]]]['Value'] * row[\"З/п в валюте найма\"]\n",
    "    else:\n",
    "        ans = row[\"З/п в валюте найма\"]\n",
    "        return ans\n",
    "\n",
    "df[\"з\\п в рублях\"] = df.apply(to_rub, axis=1)"
   ]
  },
  {
   "cell_type": "code",
   "execution_count": 267,
   "metadata": {},
   "outputs": [
    {
     "data": {
      "text/html": [
       "<div>\n",
       "<style scoped>\n",
       "    .dataframe tbody tr th:only-of-type {\n",
       "        vertical-align: middle;\n",
       "    }\n",
       "\n",
       "    .dataframe tbody tr th {\n",
       "        vertical-align: top;\n",
       "    }\n",
       "\n",
       "    .dataframe thead th {\n",
       "        text-align: right;\n",
       "    }\n",
       "</style>\n",
       "<table border=\"1\" class=\"dataframe\">\n",
       "  <thead>\n",
       "    <tr style=\"text-align: right;\">\n",
       "      <th></th>\n",
       "      <th>id</th>\n",
       "      <th>Дата рождения</th>\n",
       "      <th>Вакансия</th>\n",
       "      <th>Технология</th>\n",
       "      <th>Локация</th>\n",
       "      <th>З/п в валюте найма</th>\n",
       "      <th>Валюта</th>\n",
       "      <th>з\\п в рублях</th>\n",
       "    </tr>\n",
       "  </thead>\n",
       "  <tbody>\n",
       "    <tr>\n",
       "      <th>0</th>\n",
       "      <td>1</td>\n",
       "      <td>18.04.1994</td>\n",
       "      <td>Инженер-программист 2 категории</td>\n",
       "      <td>JS</td>\n",
       "      <td>Санкт-Петербург</td>\n",
       "      <td>140000.0</td>\n",
       "      <td>₽</td>\n",
       "      <td>140000.0</td>\n",
       "    </tr>\n",
       "    <tr>\n",
       "      <th>1</th>\n",
       "      <td>2</td>\n",
       "      <td>27.03.1993</td>\n",
       "      <td>Разработчик информационных систем</td>\n",
       "      <td>.NET</td>\n",
       "      <td>Москва</td>\n",
       "      <td>130000.0</td>\n",
       "      <td>₽</td>\n",
       "      <td>130000.0</td>\n",
       "    </tr>\n",
       "    <tr>\n",
       "      <th>2</th>\n",
       "      <td>3</td>\n",
       "      <td>24.11.1983</td>\n",
       "      <td>Java Developer</td>\n",
       "      <td>Java</td>\n",
       "      <td>Санкт-Петербург</td>\n",
       "      <td>200000.0</td>\n",
       "      <td>₽</td>\n",
       "      <td>200000.0</td>\n",
       "    </tr>\n",
       "    <tr>\n",
       "      <th>3</th>\n",
       "      <td>4</td>\n",
       "      <td>09.06.1989</td>\n",
       "      <td>Архитектор ПО</td>\n",
       "      <td>Java</td>\n",
       "      <td>Москва</td>\n",
       "      <td>250000.0</td>\n",
       "      <td>₽</td>\n",
       "      <td>250000.0</td>\n",
       "    </tr>\n",
       "    <tr>\n",
       "      <th>4</th>\n",
       "      <td>5</td>\n",
       "      <td>03.10.1978</td>\n",
       "      <td>QA Automation Engineer</td>\n",
       "      <td>QA</td>\n",
       "      <td>Санкт-Петербург</td>\n",
       "      <td>172413.0</td>\n",
       "      <td>₽</td>\n",
       "      <td>172413.0</td>\n",
       "    </tr>\n",
       "  </tbody>\n",
       "</table>\n",
       "</div>"
      ],
      "text/plain": [
       "   id Дата рождения                           Вакансия Технология  \\\n",
       "0   1    18.04.1994    Инженер-программист 2 категории         JS   \n",
       "1   2    27.03.1993  Разработчик информационных систем       .NET   \n",
       "2   3    24.11.1983                     Java Developer       Java   \n",
       "3   4    09.06.1989                      Архитектор ПО       Java   \n",
       "4   5    03.10.1978             QA Automation Engineer         QA   \n",
       "\n",
       "           Локация  З/п в валюте найма Валюта  з\\п в рублях  \n",
       "0  Санкт-Петербург            140000.0      ₽      140000.0  \n",
       "1           Москва            130000.0      ₽      130000.0  \n",
       "2  Санкт-Петербург            200000.0      ₽      200000.0  \n",
       "3           Москва            250000.0      ₽      250000.0  \n",
       "4  Санкт-Петербург            172413.0      ₽      172413.0  "
      ]
     },
     "execution_count": 267,
     "metadata": {},
     "output_type": "execute_result"
    }
   ],
   "source": [
    "df.head()"
   ]
  },
  {
   "cell_type": "code",
   "execution_count": null,
   "metadata": {},
   "outputs": [],
   "source": []
  }
 ],
 "metadata": {
  "kernelspec": {
   "display_name": "Python 3",
   "language": "python",
   "name": "python3"
  },
  "language_info": {
   "codemirror_mode": {
    "name": "ipython",
    "version": 3
   },
   "file_extension": ".py",
   "mimetype": "text/x-python",
   "name": "python",
   "nbconvert_exporter": "python",
   "pygments_lexer": "ipython3",
   "version": "3.7.6"
  }
 },
 "nbformat": 4,
 "nbformat_minor": 4
}
