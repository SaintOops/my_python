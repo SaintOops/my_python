{
 "cells": [
  {
   "cell_type": "code",
   "execution_count": 18,
   "metadata": {},
   "outputs": [
    {
     "data": {
      "text/plain": [
       "56.2654028436019"
      ]
     },
     "execution_count": 18,
     "metadata": {},
     "output_type": "execute_result"
    }
   ],
   "source": [
    "import pandas as pd\n",
    "\n",
    "url = \"https://raw.githubusercontent.com/dm-fedorov/pandas_basic/master/data/deputat.csv\"\n",
    "df = pd.read_csv(url)\n",
    "# задание 1\n",
    "# Определите средний возраст депутатов?\n",
    "\n",
    "df[\"birthdate\"].apply(lambda x: 2020 - int(x[-4:])).mean()"
   ]
  },
  {
   "cell_type": "code",
   "execution_count": 9,
   "metadata": {},
   "outputs": [
    {
     "name": "stdout",
     "output_type": "stream",
     "text": [
      "female 0.15165876777251186\n",
      "male 0.8483412322274881\n"
     ]
    }
   ],
   "source": [
    "# задание 2\n",
    "# \n",
    "print(\"female\",df['gender'].value_counts()[1]/ (df['gender'].value_counts()[0]+df['gender'].value_counts()[1]))\n",
    "print(\"male\",df['gender'].value_counts()[0]/ (df['gender'].value_counts()[0]+df['gender'].value_counts()[1]))"
   ]
  }
 ],
 "metadata": {
  "kernelspec": {
   "display_name": "Python 3",
   "language": "python",
   "name": "python3"
  },
  "language_info": {
   "codemirror_mode": {
    "name": "ipython",
    "version": 3
   },
   "file_extension": ".py",
   "mimetype": "text/x-python",
   "name": "python",
   "nbconvert_exporter": "python",
   "pygments_lexer": "ipython3",
   "version": "3.7.6"
  }
 },
 "nbformat": 4,
 "nbformat_minor": 4
}
