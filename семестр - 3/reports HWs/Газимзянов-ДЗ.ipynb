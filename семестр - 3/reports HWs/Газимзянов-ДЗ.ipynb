{
 "cells": [
  {
   "cell_type": "code",
   "execution_count": null,
   "metadata": {},
   "outputs": [],
   "source": [
    "# задание 1"
   ]
  },
  {
   "cell_type": "code",
   "execution_count": 2,
   "metadata": {},
   "outputs": [],
   "source": [
    "import glob\n",
    "\n",
    "\n",
    "for name in sorted(glob.glob(\"dir/file?.txt\")):\n",
    "    print(name)"
   ]
  },
  {
   "cell_type": "code",
   "execution_count": 3,
   "metadata": {},
   "outputs": [],
   "source": [
    "# задание 2"
   ]
  },
  {
   "cell_type": "code",
   "execution_count": 5,
   "metadata": {},
   "outputs": [],
   "source": [
    "import os\n",
    "import tempfile\n",
    "\n",
    "lorem = '''Lorem ipsum dolor sit amet, consectetuer\n",
    "adipiscing elit.  Vivamus eget elit. In posuere mi non\n",
    "risus. Mauris id quam posuere lectus sollicitudin\n",
    "varius. Praesent at mi. Nunc eu velit. Sed augue massa,\n",
    "fermentum id, nonummy a, nonummy sit amet, ligula. Curabitur\n",
    "eros pede, egestas at, ultricies ac, apellentesque eu,\n",
    "tellus.\n",
    "\n",
    "Sed sed odio sed mi luctus mollis. Integer et nulla ac augue\n",
    "convallis accumsan. Ut felis. Donec lectus sapien, elementum\n",
    "nec, condimentum ac, interdum non, tellus. Aenean viverra,\n",
    "mauris vehicula semper porttitor, ipsum odio consectetuer\n",
    "lorem, ac imperdiet eros odio a sapien. Nulla mauris tellus,\n",
    "aliquam non, egestas a, nonummy et, erat. Vivamus sagittis\n",
    "porttitor eros.'''\n",
    "\n",
    "\n",
    "def make_tempfile():\n",
    "    fd, temp_file_name = tempfile.mkstemp()\n",
    "    os.close(fd)\n",
    "    with open(temp_file_name, 'wt') as f:\n",
    "        f.write(lorem)\n",
    "    return temp_file_name\n",
    "\n",
    "\n",
    "def cleanup(filename):\n",
    "    os.unlink(filename)"
   ]
  },
  {
   "cell_type": "code",
   "execution_count": 6,
   "metadata": {},
   "outputs": [
    {
     "name": "stdout",
     "output_type": "stream",
     "text": [
      "BLANK : ''\n",
      "BLANK : ''\n"
     ]
    }
   ],
   "source": [
    "import linecache\n",
    "\n",
    "\n",
    "filename = make_tempfile()\n",
    "\n",
    "print('BLANK : {!r}'.format(linecache.getline(filename, 0)))\n",
    "print('BLANK : {!r}'.format(linecache.getline(filename, -1)))"
   ]
  },
  {
   "cell_type": "code",
   "execution_count": null,
   "metadata": {},
   "outputs": [],
   "source": []
  }
 ],
 "metadata": {
  "kernelspec": {
   "display_name": "Python 3",
   "language": "python",
   "name": "python3"
  },
  "language_info": {
   "codemirror_mode": {
    "name": "ipython",
    "version": 3
   },
   "file_extension": ".py",
   "mimetype": "text/x-python",
   "name": "python",
   "nbconvert_exporter": "python",
   "pygments_lexer": "ipython3",
   "version": "3.8.3"
  }
 },
 "nbformat": 4,
 "nbformat_minor": 4
}
