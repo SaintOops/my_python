{
 "cells": [
  {
   "cell_type": "code",
   "execution_count": null,
   "metadata": {},
   "outputs": [],
   "source": [
    "# задание 1"
   ]
  },
  {
   "cell_type": "code",
   "execution_count": 5,
   "metadata": {},
   "outputs": [
    {
     "name": "stdout",
     "output_type": "stream",
     "text": [
      "1P_JAR 2020-12-05-10\n",
      "NID 204=yxXFAOA_621y_Lz0iF4yjqElcgf7ACRgCbJq9g1nLA18zt31FlChg8_luLncerQBjhbyQB830TWa4jvV1NaMAHP07dBmxqCLRcbPLeB_Q-RhGcvQwKai-pOHTo5NRr57iybh-VmL6GoLgNuytb3aO4ePRi_U_IJawMGeywiEkq8\n",
      "1P_JAR 2020-12-05-10\n",
      "NID 204=yxXFAOA_621y_Lz0iF4yjqElcgf7ACRgCbJq9g1nLA18zt31FlChg8_luLncerQBjhbyQB830TWa4jvV1NaMAHP07dBmxqCLRcbPLeB_Q-RhGcvQwKai-pOHTo5NRr57iybh-VmL6GoLgNuytb3aO4ePRi_U_IJawMGeywiEkq8\n"
     ]
    }
   ],
   "source": [
    "from urllib.request import Request, build_opener, HTTPCookieProcessor, HTTPHandler, HTTPSHandler\n",
    "import http.cookiejar\n",
    "\n",
    "cookies = http.cookiejar.LWPCookieJar()\n",
    "handlers = [\n",
    "    HTTPHandler(),\n",
    "    HTTPSHandler(),\n",
    "    HTTPCookieProcessor(cookies)\n",
    "    ]\n",
    "opener = build_opener(*handlers)\n",
    "\n",
    "def fetch(uri):\n",
    "    req = Request(uri)\n",
    "    return opener.open(req)\n",
    "\n",
    "def dump():\n",
    "    for cookie in cookies:\n",
    "        print(cookie.name, cookie.value)\n",
    "\n",
    "uri = 'http://www.google.com/'\n",
    "res = fetch(uri)\n",
    "dump()\n",
    "\n",
    "res = fetch(uri)\n",
    "dump()"
   ]
  },
  {
   "cell_type": "code",
   "execution_count": null,
   "metadata": {},
   "outputs": [],
   "source": [
    "# задание 2"
   ]
  },
  {
   "cell_type": "code",
   "execution_count": 1,
   "metadata": {},
   "outputs": [
    {
     "name": "stdout",
     "output_type": "stream",
     "text": [
      "[\"foo\", {\"bar\": [\"baz\", null, 1.0, 2]}]\n",
      "{\"a\": 0, \"b\": 0, \"c\": 0}\n"
     ]
    }
   ],
   "source": [
    "import json\n",
    "print(json.dumps(['foo', {'bar': ('baz', None, 1.0, 2)}]))\n",
    "print(json.dumps({\"c\": 0, \"b\": 0, \"a\": 0}, sort_keys=True))"
   ]
  },
  {
   "cell_type": "code",
   "execution_count": 2,
   "metadata": {},
   "outputs": [
    {
     "data": {
      "text/plain": [
       "'[1,2,3,{\"4\":5,\"6\":7}]'"
      ]
     },
     "execution_count": 2,
     "metadata": {},
     "output_type": "execute_result"
    }
   ],
   "source": [
    "import json\n",
    "json.dumps([1,2,3,{'4': 5, '6': 7}], separators=(',', ':'))"
   ]
  },
  {
   "cell_type": "code",
   "execution_count": 3,
   "metadata": {},
   "outputs": [
    {
     "name": "stdout",
     "output_type": "stream",
     "text": [
      "{\n",
      "    \"4\": 5,\n",
      "    \"6\": 7\n",
      "}\n"
     ]
    }
   ],
   "source": [
    "import json\n",
    "print(json.dumps({'4': 5, '6': 7}, sort_keys=True, indent=4))"
   ]
  },
  {
   "cell_type": "code",
   "execution_count": null,
   "metadata": {},
   "outputs": [],
   "source": [
    "# задание 3"
   ]
  },
  {
   "cell_type": "code",
   "execution_count": null,
   "metadata": {},
   "outputs": [],
   "source": [
    "json.load(fp, cls=None, object_hook=None, parse_float=None, parse_int=None, parse_constant=None, object_pairs_hook=None, **kw)"
   ]
  },
  {
   "cell_type": "code",
   "execution_count": null,
   "metadata": {},
   "outputs": [],
   "source": [
    "import webbrowser\n",
    "webbrowser.open_new_tab('https://vk.com')\n",
    "webbrowser.open_new_tab('яблоки')"
   ]
  }
 ],
 "metadata": {
  "kernelspec": {
   "display_name": "Python 3",
   "language": "python",
   "name": "python3"
  },
  "language_info": {
   "codemirror_mode": {
    "name": "ipython",
    "version": 3
   },
   "file_extension": ".py",
   "mimetype": "text/x-python",
   "name": "python",
   "nbconvert_exporter": "python",
   "pygments_lexer": "ipython3",
   "version": "3.8.3"
  }
 },
 "nbformat": 4,
 "nbformat_minor": 4
}
