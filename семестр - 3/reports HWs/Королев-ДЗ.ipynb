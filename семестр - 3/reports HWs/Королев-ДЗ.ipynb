{
 "cells": [
  {
   "cell_type": "code",
   "execution_count": null,
   "metadata": {},
   "outputs": [],
   "source": [
    "# задание 1"
   ]
  },
  {
   "cell_type": "code",
   "execution_count": 1,
   "metadata": {},
   "outputs": [
    {
     "name": "stdout",
     "output_type": "stream",
     "text": [
      "IPv4Address('10.9.0.6')\n",
      " IP version: 4\n",
      " is private: True\n",
      " packed form: b'0a090006'\n",
      " integer: 168361990\n",
      "\n",
      "IPv6Address('fdfd:87b5:b475:5e3e:b1bc:e121:a8eb:14aa')\n",
      " IP version: 6\n",
      " is private: True\n",
      " packed form: b'fdfd87b5b4755e3eb1bce121a8eb14aa'\n",
      " integer: 337611086560236126439725644408160982186\n",
      "\n"
     ]
    }
   ],
   "source": [
    "import binascii\n",
    "import ipaddress\n",
    "ADDRESSES = [\n",
    "             '10.9.0.6',\n",
    "             'fdfd:87b5:b475:5e3e:b1bc:e121:a8eb:14aa',\n",
    "]\n",
    "for ip in ADDRESSES:\n",
    "  addr = ipaddress.ip_address(ip)\n",
    "  print('{!r}'.format(addr))\n",
    "  print(' IP version:', addr.version)\n",
    "  print(' is private:', addr.is_private)\n",
    "  print(' packed form:', binascii.hexlify(addr.packed))\n",
    "  print(' integer:', int(addr))\n",
    "  print()"
   ]
  },
  {
   "cell_type": "code",
   "execution_count": 2,
   "metadata": {},
   "outputs": [
    {
     "name": "stdout",
     "output_type": "stream",
     "text": [
      "IPv4Network('10.9.0.0/24')\n",
      " is private: True\n",
      " broadcast: 10.9.0.255\n",
      " compressed: 10.9.0.0/24\n",
      " with netmask: 10.9.0.0/255.255.255.0\n",
      " with hostmask: 10.9.0.0/0.0.0.255\n",
      " num addresses: 256\n",
      "\n",
      "IPv6Network('fdfd:87b5:b475:5e3e::/64')\n",
      " is private: True\n",
      " broadcast: fdfd:87b5:b475:5e3e:ffff:ffff:ffff:ffff\n",
      " compressed: fdfd:87b5:b475:5e3e::/64\n",
      " with netmask: fdfd:87b5:b475:5e3e::/ffff:ffff:ffff:ffff::\n",
      " with hostmask: fdfd:87b5:b475:5e3e::/::ffff:ffff:ffff:ffff\n",
      " num addresses: 18446744073709551616\n",
      "\n"
     ]
    }
   ],
   "source": [
    "NETWORKS = [\n",
    "             '10.9.0.0/24',\n",
    "             'fdfd:87b5:b475:5e3e::/64',\n",
    "]\n",
    "\n",
    "for n in NETWORKS:\n",
    "  net = ipaddress.ip_network(n)\n",
    "  print('{!r}'.format(net))\n",
    "  print(' is private:', net.is_private)\n",
    "  print(' broadcast:', net.broadcast_address)\n",
    "  print(' compressed:', net.compressed)\n",
    "  print(' with netmask:', net.with_netmask)\n",
    "  print(' with hostmask:', net.with_hostmask)\n",
    "  print(' num addresses:', net.num_addresses)\n",
    "  print()"
   ]
  },
  {
   "cell_type": "code",
   "execution_count": 3,
   "metadata": {},
   "outputs": [
    {
     "ename": "ConnectionRefusedError",
     "evalue": "[WinError 10061] Подключение не установлено, т.к. конечный компьютер отверг запрос на подключение",
     "output_type": "error",
     "traceback": [
      "\u001b[1;31m---------------------------------------------------------------------------\u001b[0m",
      "\u001b[1;31mConnectionRefusedError\u001b[0m                    Traceback (most recent call last)",
      "\u001b[1;32m<ipython-input-3-bea15a94590e>\u001b[0m in \u001b[0;36m<module>\u001b[1;34m\u001b[0m\n\u001b[0;32m      5\u001b[0m \u001b[0mdata\u001b[0m \u001b[1;33m=\u001b[0m \u001b[1;34m\" \"\u001b[0m\u001b[1;33m.\u001b[0m\u001b[0mjoin\u001b[0m\u001b[1;33m(\u001b[0m\u001b[0msys\u001b[0m\u001b[1;33m.\u001b[0m\u001b[0margv\u001b[0m\u001b[1;33m[\u001b[0m\u001b[1;36m1\u001b[0m\u001b[1;33m:\u001b[0m\u001b[1;33m]\u001b[0m\u001b[1;33m)\u001b[0m\u001b[1;33m\u001b[0m\u001b[1;33m\u001b[0m\u001b[0m\n\u001b[0;32m      6\u001b[0m \u001b[1;32mwith\u001b[0m \u001b[0msocket\u001b[0m\u001b[1;33m.\u001b[0m\u001b[0msocket\u001b[0m\u001b[1;33m(\u001b[0m\u001b[0msocket\u001b[0m\u001b[1;33m.\u001b[0m\u001b[0mAF_INET\u001b[0m\u001b[1;33m,\u001b[0m \u001b[0msocket\u001b[0m\u001b[1;33m.\u001b[0m\u001b[0mSOCK_STREAM\u001b[0m\u001b[1;33m)\u001b[0m \u001b[1;32mas\u001b[0m \u001b[0msock\u001b[0m\u001b[1;33m:\u001b[0m\u001b[1;33m\u001b[0m\u001b[1;33m\u001b[0m\u001b[0m\n\u001b[1;32m----> 7\u001b[1;33m     \u001b[0msock\u001b[0m\u001b[1;33m.\u001b[0m\u001b[0mconnect\u001b[0m\u001b[1;33m(\u001b[0m\u001b[1;33m(\u001b[0m\u001b[0mHOST\u001b[0m\u001b[1;33m,\u001b[0m \u001b[0mPORT\u001b[0m\u001b[1;33m)\u001b[0m\u001b[1;33m)\u001b[0m\u001b[1;33m\u001b[0m\u001b[1;33m\u001b[0m\u001b[0m\n\u001b[0m\u001b[0;32m      8\u001b[0m     \u001b[0msock\u001b[0m\u001b[1;33m.\u001b[0m\u001b[0msendall\u001b[0m\u001b[1;33m(\u001b[0m\u001b[0mbytes\u001b[0m\u001b[1;33m(\u001b[0m\u001b[0mdata\u001b[0m \u001b[1;33m+\u001b[0m \u001b[1;34m\"\\n\"\u001b[0m\u001b[1;33m,\u001b[0m \u001b[1;34m\"utf-8\"\u001b[0m\u001b[1;33m)\u001b[0m\u001b[1;33m)\u001b[0m\u001b[1;33m\u001b[0m\u001b[1;33m\u001b[0m\u001b[0m\n\u001b[0;32m      9\u001b[0m \u001b[1;33m\u001b[0m\u001b[0m\n",
      "\u001b[1;31mConnectionRefusedError\u001b[0m: [WinError 10061] Подключение не установлено, т.к. конечный компьютер отверг запрос на подключение"
     ]
    }
   ],
   "source": [
    "\n",
    "import socket\n",
    "import sys\n",
    "\n",
    "HOST, PORT = \"localhost\", 9999\n",
    "data = \" \".join(sys.argv[1:])\n",
    "with socket.socket(socket.AF_INET, socket.SOCK_STREAM) as sock:\n",
    "    sock.connect((HOST, PORT))\n",
    "    sock.sendall(bytes(data + \"\\n\", \"utf-8\"))\n",
    "\n",
    "    received = str(sock.recv(1024), \"utf-8\")\n",
    "\n",
    "print(\"Sent:     {}\".format(data))\n",
    "print(\"Received: {}\".format(received))"
   ]
  },
  {
   "cell_type": "code",
   "execution_count": null,
   "metadata": {},
   "outputs": [],
   "source": []
  }
 ],
 "metadata": {
  "kernelspec": {
   "display_name": "Python 3",
   "language": "python",
   "name": "python3"
  },
  "language_info": {
   "codemirror_mode": {
    "name": "ipython",
    "version": 3
   },
   "file_extension": ".py",
   "mimetype": "text/x-python",
   "name": "python",
   "nbconvert_exporter": "python",
   "pygments_lexer": "ipython3",
   "version": "3.8.3"
  }
 },
 "nbformat": 4,
 "nbformat_minor": 4
}
