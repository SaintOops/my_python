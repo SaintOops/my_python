{
 "cells": [
  {
   "cell_type": "code",
   "execution_count": null,
   "metadata": {},
   "outputs": [],
   "source": [
    "# задание 1"
   ]
  },
  {
   "cell_type": "code",
   "execution_count": 1,
   "metadata": {},
   "outputs": [],
   "source": [
    "import pickle"
   ]
  },
  {
   "cell_type": "code",
   "execution_count": 2,
   "metadata": {},
   "outputs": [],
   "source": [
    "testData = {\n",
    "    'a': [1, 2.0, 3, (4+6j)], \n",
    "    'b': ('character string', b'byte string'), \n",
    "    'c': {None, True, False}\n",
    "}"
   ]
  },
  {
   "cell_type": "code",
   "execution_count": 3,
   "metadata": {},
   "outputs": [],
   "source": [
    "with open('MyClassInFile.pickle', 'wb') as f:\n",
    "    pickle.dump(testData, f)"
   ]
  },
  {
   "cell_type": "code",
   "execution_count": 4,
   "metadata": {},
   "outputs": [],
   "source": [
    "# задание 2"
   ]
  },
  {
   "cell_type": "code",
   "execution_count": 5,
   "metadata": {},
   "outputs": [],
   "source": [
    "import shelve"
   ]
  },
  {
   "cell_type": "code",
   "execution_count": 6,
   "metadata": {},
   "outputs": [],
   "source": [
    "with shelve.open(\"films\") as films:\n",
    "    films[\"film1\"] = \"director1\"\n",
    "    films[\"film3\"] = \"director3\"\n",
    "    films[\"film2\"] = \"director2\" "
   ]
  },
  {
   "cell_type": "code",
   "execution_count": 7,
   "metadata": {},
   "outputs": [],
   "source": [
    "# задание 3"
   ]
  },
  {
   "cell_type": "code",
   "execution_count": 1,
   "metadata": {},
   "outputs": [
    {
     "data": {
      "text/plain": [
       "<sqlite3.Cursor at 0x2445bd41f80>"
      ]
     },
     "execution_count": 1,
     "metadata": {},
     "output_type": "execute_result"
    }
   ],
   "source": [
    "import sqlite3\n",
    "\n",
    "conn = sqlite3.connect(\"mydatabase2.db\")\n",
    "\n",
    "conn.row_factory = sqlite3.Row\n",
    "\n",
    "cursor = conn.cursor()\n",
    "cursor.execute(\"CREATE TABLE albums (title text, artist text, release_date text)\")"
   ]
  },
  {
   "cell_type": "code",
   "execution_count": 2,
   "metadata": {},
   "outputs": [],
   "source": [
    "albums = [('name', 'salary', 'age'),\n",
    "          ('John', '5000', '35'),\n",
    "          ('Marie', '6000', '35'),\n",
    "          ('Megan', '3000', '29'),\n",
    "         ('Harmony', '4000', '42')]\n",
    "\n",
    "cursor.executemany(\"INSERT INTO albums VALUES (?,?,?)\", albums)\n",
    "conn.commit()"
   ]
  },
  {
   "cell_type": "code",
   "execution_count": 3,
   "metadata": {},
   "outputs": [
    {
     "name": "stdout",
     "output_type": "stream",
     "text": [
      "<sqlite3.Row object at 0x000002445BDAF4F0>\n",
      "<sqlite3.Row object at 0x000002445BDAF4B0>\n",
      "<sqlite3.Row object at 0x000002445BDAF4F0>\n",
      "<sqlite3.Row object at 0x000002445BDAF4B0>\n",
      "<sqlite3.Row object at 0x000002445BDAF4F0>\n"
     ]
    }
   ],
   "source": [
    "for row in cursor.execute(\"SELECT rowid, * FROM albums ORDER BY artist\"):\n",
    "    print(row)"
   ]
  },
  {
   "cell_type": "code",
   "execution_count": null,
   "metadata": {},
   "outputs": [],
   "source": []
  }
 ],
 "metadata": {
  "kernelspec": {
   "display_name": "Python 3",
   "language": "python",
   "name": "python3"
  },
  "language_info": {
   "codemirror_mode": {
    "name": "ipython",
    "version": 3
   },
   "file_extension": ".py",
   "mimetype": "text/x-python",
   "name": "python",
   "nbconvert_exporter": "python",
   "pygments_lexer": "ipython3",
   "version": "3.8.3"
  }
 },
 "nbformat": 4,
 "nbformat_minor": 4
}
