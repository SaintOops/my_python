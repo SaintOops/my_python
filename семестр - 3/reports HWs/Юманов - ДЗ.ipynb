{
 "cells": [
  {
   "cell_type": "code",
   "execution_count": 2,
   "metadata": {},
   "outputs": [],
   "source": [
    "# задание 1\n",
    "# С помощью модуля math вычислить площадь круга с радиусом = логорифм e по основанию 2"
   ]
  },
  {
   "cell_type": "code",
   "execution_count": 5,
   "metadata": {},
   "outputs": [
    {
     "name": "stdout",
     "output_type": "stream",
     "text": [
      "6.538813500136891\n"
     ]
    }
   ],
   "source": [
    "import math \n",
    "\n",
    "ans = math.pi * pow(math.log(math.e,2), 2)\n",
    "print(ans)"
   ]
  },
  {
   "cell_type": "code",
   "execution_count": 6,
   "metadata": {},
   "outputs": [],
   "source": [
    "# задание 2\n",
    "# С помощью модуля statistics найдите population variance и population standart deviation \n",
    "# от последовательности среднего арифметического, среднего геометрического и среднего гармонического от 30 случайных чисел"
   ]
  },
  {
   "cell_type": "code",
   "execution_count": 13,
   "metadata": {},
   "outputs": [],
   "source": [
    "import random\n",
    "import statistics as st"
   ]
  },
  {
   "cell_type": "code",
   "execution_count": 23,
   "metadata": {},
   "outputs": [
    {
     "name": "stdout",
     "output_type": "stream",
     "text": [
      "321.68042861378734 17.93545172594734\n"
     ]
    }
   ],
   "source": [
    "set = [random.randint(1, 100) for i in range(30)] \n",
    "set = [st.mean(set),st.geometric_mean(set), st.harmonic_mean(set)]\n",
    "print(st.pvariance(set), st.pstdev(set))"
   ]
  },
  {
   "cell_type": "code",
   "execution_count": null,
   "metadata": {},
   "outputs": [],
   "source": []
  }
 ],
 "metadata": {
  "kernelspec": {
   "display_name": "Python 3",
   "language": "python",
   "name": "python3"
  },
  "language_info": {
   "codemirror_mode": {
    "name": "ipython",
    "version": 3
   },
   "file_extension": ".py",
   "mimetype": "text/x-python",
   "name": "python",
   "nbconvert_exporter": "python",
   "pygments_lexer": "ipython3",
   "version": "3.8.3"
  }
 },
 "nbformat": 4,
 "nbformat_minor": 4
}
