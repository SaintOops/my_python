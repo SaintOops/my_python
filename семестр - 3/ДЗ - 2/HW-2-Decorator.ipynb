{
 "cells": [
  {
   "cell_type": "code",
   "execution_count": 3,
   "metadata": {},
   "outputs": [],
   "source": [
    "# задание 1 \n",
    "import functools\n",
    "def log(func):\n",
    "    @functools.wraps(func)\n",
    "    def info(*args, **kwargs):\n",
    "        print(f'вы вызвали функцию {func.__name__}{args}')\n",
    "        result = func(*args, **kwargs)\n",
    "        print(f'она вернула значение {result}')\n",
    "        return result \n",
    "    return info"
   ]
  },
  {
   "cell_type": "code",
   "execution_count": 4,
   "metadata": {},
   "outputs": [],
   "source": [
    "@log\n",
    "def function(*args):\n",
    "    return 3 + len(args)"
   ]
  },
  {
   "cell_type": "code",
   "execution_count": 5,
   "metadata": {},
   "outputs": [
    {
     "name": "stdout",
     "output_type": "stream",
     "text": [
      "вы вызвали функцию function(4, 4, 4)\n",
      "она вернула значение 6\n"
     ]
    },
    {
     "data": {
      "text/plain": [
       "6"
      ]
     },
     "execution_count": 5,
     "metadata": {},
     "output_type": "execute_result"
    }
   ],
   "source": [
    "function(4, 4, 4)"
   ]
  },
  {
   "cell_type": "code",
   "execution_count": 47,
   "metadata": {},
   "outputs": [],
   "source": [
    "# задание 2\n",
    "import time\n",
    "def html(func):\n",
    "    def gen(*args,**kwargs):\n",
    "        with open('my_file.html','w') as file:\n",
    "            loctime = time.strftime(\"%Y/%m/%d %H:%M\", time.localtime())\n",
    "            file.write(f\"{loctime} \\n <html> \\n <strong>{func(*args,**kwargs)}</strong> \\n </html>\")\n",
    "    return gen"
   ]
  },
  {
   "cell_type": "code",
   "execution_count": 48,
   "metadata": {},
   "outputs": [],
   "source": [
    "@html\n",
    "def function(s='hello'):\n",
    "    return s"
   ]
  },
  {
   "cell_type": "code",
   "execution_count": 49,
   "metadata": {},
   "outputs": [],
   "source": [
    "function('hi')"
   ]
  }
 ],
 "metadata": {
  "kernelspec": {
   "display_name": "Python 3",
   "language": "python",
   "name": "python3"
  },
  "language_info": {
   "codemirror_mode": {
    "name": "ipython",
    "version": 3
   },
   "file_extension": ".py",
   "mimetype": "text/x-python",
   "name": "python",
   "nbconvert_exporter": "python",
   "pygments_lexer": "ipython3",
   "version": "3.8.3"
  }
 },
 "nbformat": 4,
 "nbformat_minor": 4
}
