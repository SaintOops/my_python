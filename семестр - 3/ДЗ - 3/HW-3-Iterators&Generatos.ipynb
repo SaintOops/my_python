{
 "cells": [
  {
   "cell_type": "code",
   "execution_count": 23,
   "metadata": {},
   "outputs": [],
   "source": [
    "# задание 1а\n",
    "class MyEnumerate:\n",
    "    def __init__(self, obj):\n",
    "        self.obj = obj\n",
    "        self.index = -1\n",
    "        self.length = len(obj) - 1\n",
    "\n",
    "    def __iter__(self):\n",
    "        return self\n",
    "\n",
    "    def __next__(self):\n",
    "        \n",
    "        if self.index < self.length :\n",
    "            self.index += 1\n",
    "            return (self.index, self.obj[self.index])\n",
    "        else:\n",
    "            raise StopIteration()"
   ]
  },
  {
   "cell_type": "code",
   "execution_count": 29,
   "metadata": {},
   "outputs": [
    {
     "name": "stdout",
     "output_type": "stream",
     "text": [
      "0: a\n",
      "1: b\n",
      "2: c\n"
     ]
    }
   ],
   "source": [
    "for index, letter in MyEnumerate('abc'):\n",
    "    print(f'{index}: {letter}')"
   ]
  },
  {
   "cell_type": "code",
   "execution_count": 28,
   "metadata": {},
   "outputs": [],
   "source": [
    "# задание 1b\n",
    "class MyEnumerate:\n",
    "    def __init__(self, obj):\n",
    "        self.obj = obj\n",
    "    def __iter__(self):\n",
    "        return tempEnumerate(self.obj)\n",
    "    \n",
    "class tempEnumerate:\n",
    "    def __init__(self, obj):\n",
    "        self.obj = obj\n",
    "        self.index = -1\n",
    "        self.length = len(obj) - 1\n",
    "\n",
    "    def __iter__(self):\n",
    "        return self\n",
    "\n",
    "    def __next__(self):\n",
    "        \n",
    "        if self.index < self.length :\n",
    "            self.index += 1\n",
    "            return (self.index, self.obj[self.index])\n",
    "        else:\n",
    "            raise StopIteration()"
   ]
  },
  {
   "cell_type": "code",
   "execution_count": 30,
   "metadata": {},
   "outputs": [
    {
     "name": "stdout",
     "output_type": "stream",
     "text": [
      "0: a\n",
      "1: b\n",
      "2: c\n"
     ]
    }
   ],
   "source": [
    "for index, letter in MyEnumerate('abc'):\n",
    "    print(f'{index}: {letter}')"
   ]
  },
  {
   "cell_type": "code",
   "execution_count": 53,
   "metadata": {},
   "outputs": [],
   "source": [
    "# задание 2\n",
    "class MyCircle:\n",
    "    def __init__(self, obj, times):\n",
    "        self.obj = obj\n",
    "        self.times = times\n",
    "    def __iter__(self):\n",
    "        return MyCircleIterator(self.obj, self.times)\n",
    "\n",
    "\n",
    "class MyCircleIterator:\n",
    "    def __init__(self, obj, times):\n",
    "        self.obj = obj\n",
    "        self.index = -1\n",
    "        self.times = times\n",
    "\n",
    "    def __iter__(self):\n",
    "        return self\n",
    "\n",
    "    def __next__(self):\n",
    "        \n",
    "        if self.index < self.times - 1 :\n",
    "            self.index += 1\n",
    "            return self.obj[self.index % len(self.obj)]\n",
    "        else:\n",
    "            raise StopIteration()"
   ]
  },
  {
   "cell_type": "code",
   "execution_count": 54,
   "metadata": {},
   "outputs": [
    {
     "name": "stdout",
     "output_type": "stream",
     "text": [
      "['a', 'b', 'c', 'a', 'b']\n"
     ]
    }
   ],
   "source": [
    "c = MyCircle('abc', 5)\n",
    "print(list(c))"
   ]
  },
  {
   "cell_type": "code",
   "execution_count": null,
   "metadata": {},
   "outputs": [],
   "source": []
  }
 ],
 "metadata": {
  "kernelspec": {
   "display_name": "Python 3",
   "language": "python",
   "name": "python3"
  },
  "language_info": {
   "codemirror_mode": {
    "name": "ipython",
    "version": 3
   },
   "file_extension": ".py",
   "mimetype": "text/x-python",
   "name": "python",
   "nbconvert_exporter": "python",
   "pygments_lexer": "ipython3",
   "version": "3.8.3"
  }
 },
 "nbformat": 4,
 "nbformat_minor": 4
}
