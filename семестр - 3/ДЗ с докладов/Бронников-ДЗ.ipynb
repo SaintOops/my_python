{
 "cells": [
  {
   "cell_type": "code",
   "execution_count": 67,
   "metadata": {},
   "outputs": [],
   "source": [
    "# задание 1"
   ]
  },
  {
   "cell_type": "code",
   "execution_count": 68,
   "metadata": {},
   "outputs": [],
   "source": [
    "import itertools\n",
    "\n",
    "def even_nums():\n",
    "    return [ i for i in itertools.islice(range(11), 0, 11, 2)]"
   ]
  },
  {
   "cell_type": "code",
   "execution_count": 69,
   "metadata": {},
   "outputs": [],
   "source": [
    "assert even_nums() == [0, 2, 4, 6, 8, 10]"
   ]
  },
  {
   "cell_type": "code",
   "execution_count": 70,
   "metadata": {},
   "outputs": [],
   "source": [
    "# задание 2"
   ]
  },
  {
   "cell_type": "code",
   "execution_count": 71,
   "metadata": {},
   "outputs": [],
   "source": [
    "import functools\n",
    "\n",
    "def from_digits(**kwargs):\n",
    "    if kwargs['digits'] == []:\n",
    "        ans = \"Error: 'Список цифр должен быть не пуст!'\"\n",
    "    else:\n",
    "        ans = int(functools.reduce(lambda x, y: str(x) + str(y), kwargs['digits']))\n",
    "    return ans"
   ]
  },
  {
   "cell_type": "code",
   "execution_count": 72,
   "metadata": {},
   "outputs": [],
   "source": [
    "assert from_digits(digits = [1, 0, 2]) == 102\n",
    "assert from_digits(digits = [3, 2, 1, 4, 5, 7]) == 321457\n",
    "assert from_digits(digits = []) == \"Error: 'Список цифр должен быть не пуст!'\""
   ]
  },
  {
   "cell_type": "code",
   "execution_count": 73,
   "metadata": {},
   "outputs": [],
   "source": [
    "# задание 3"
   ]
  },
  {
   "cell_type": "code",
   "execution_count": 74,
   "metadata": {},
   "outputs": [],
   "source": [
    "import operator\n",
    "\n",
    "def sort_dict(d):\n",
    "    return {i[0]:i[1] for i in sorted(d.items(), key=operator.itemgetter(1))}"
   ]
  },
  {
   "cell_type": "code",
   "execution_count": 75,
   "metadata": {},
   "outputs": [],
   "source": [
    "assert sort_dict({1: -10, 2: 10, 3: 0}) == {1: -10, 3: 0, 2: 10}\n",
    "assert sort_dict({1: -1, 2: -2, 3: -6}) == {3: -6, 2: -2, 1: -1}\n",
    "assert sort_dict({}) == {}"
   ]
  }
 ],
 "metadata": {
  "kernelspec": {
   "display_name": "Python 3",
   "language": "python",
   "name": "python3"
  },
  "language_info": {
   "codemirror_mode": {
    "name": "ipython",
    "version": 3
   },
   "file_extension": ".py",
   "mimetype": "text/x-python",
   "name": "python",
   "nbconvert_exporter": "python",
   "pygments_lexer": "ipython3",
   "version": "3.8.3"
  }
 },
 "nbformat": 4,
 "nbformat_minor": 4
}
