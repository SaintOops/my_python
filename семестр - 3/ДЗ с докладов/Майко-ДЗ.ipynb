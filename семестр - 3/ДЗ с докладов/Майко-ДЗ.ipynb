{
 "cells": [
  {
   "cell_type": "code",
   "execution_count": null,
   "metadata": {},
   "outputs": [],
   "source": []
  },
  {
   "cell_type": "code",
   "execution_count": 46,
   "metadata": {},
   "outputs": [],
   "source": [
    "import copy \n",
    "\n",
    "def count_till(n):\n",
    "    first = n\n",
    "    while first < 229:\n",
    "        nextt = copy.deepcopy(first)*2 \n",
    "        first = copy.deepcopy(nextt)\n",
    "    \n",
    "    return nextt"
   ]
  },
  {
   "cell_type": "code",
   "execution_count": 47,
   "metadata": {},
   "outputs": [
    {
     "data": {
      "text/plain": [
       "320"
      ]
     },
     "execution_count": 47,
     "metadata": {},
     "output_type": "execute_result"
    }
   ],
   "source": [
    "count_till(5)"
   ]
  },
  {
   "cell_type": "code",
   "execution_count": null,
   "metadata": {},
   "outputs": [],
   "source": []
  },
  {
   "cell_type": "code",
   "execution_count": 49,
   "metadata": {},
   "outputs": [],
   "source": [
    "table = {'Утро':{1: 'Алгебра',2: 'Физра',3: 'Философия'},\n",
    "         'День':{1:'Обед',2:'Сериал',3:'Прогулка'},\n",
    "         'Вечер':{1:'ДЗ',2:'ДЗ',3:'ДЗ'}}"
   ]
  },
  {
   "cell_type": "code",
   "execution_count": 50,
   "metadata": {},
   "outputs": [
    {
     "name": "stdout",
     "output_type": "stream",
     "text": [
      "{'Вечер': {1: 'ДЗ',\n",
      "           2: 'ДЗ',\n",
      "           3: 'ДЗ'},\n",
      " 'День': {1: 'Обед',\n",
      "          2: 'Сериал',\n",
      "          3: 'Прогулка'},\n",
      " 'Утро': {1: 'Алгебра',\n",
      "          2: 'Физра',\n",
      "          3: 'Философия'}}\n"
     ]
    }
   ],
   "source": [
    "from pprint import pprint\n",
    "\n",
    "pprint(table, width=1)"
   ]
  },
  {
   "cell_type": "code",
   "execution_count": null,
   "metadata": {},
   "outputs": [],
   "source": []
  }
 ],
 "metadata": {
  "kernelspec": {
   "display_name": "Python 3",
   "language": "python",
   "name": "python3"
  },
  "language_info": {
   "codemirror_mode": {
    "name": "ipython",
    "version": 3
   },
   "file_extension": ".py",
   "mimetype": "text/x-python",
   "name": "python",
   "nbconvert_exporter": "python",
   "pygments_lexer": "ipython3",
   "version": "3.8.3"
  }
 },
 "nbformat": 4,
 "nbformat_minor": 4
}
